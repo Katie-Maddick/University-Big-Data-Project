{
 "cells": [
  {
   "cell_type": "code",
   "execution_count": 16,
   "id": "44220778-f414-418c-9494-80ed799b35c7",
   "metadata": {},
   "outputs": [],
   "source": [
    "#Use findspark to confirm pyspark works\n",
    "import findspark\n",
    "import streamlit\n",
    "findspark.init()"
   ]
  },
  {
   "cell_type": "code",
   "execution_count": 33,
   "id": "6e105e07-882d-499e-be1c-8c09aa115977",
   "metadata": {},
   "outputs": [],
   "source": [
    "#Import pyspark\n",
    "import pyspark\n",
    "from pyspark import SparkContext, SparkConf\n",
    "from collections import Counter\n",
    "\n",
    "from pyspark.sql import SparkSession\n",
    "spark = SparkSession.builder.getOrCreate()\n",
    "\n",
    "conf = SparkConf().setAppName('Project').setMaster('local')\n",
    "sparkContext = SparkContext.getOrCreate(conf=conf) #SparkContext(conf = conf)"
   ]
  },
  {
   "cell_type": "code",
   "execution_count": null,
   "id": "89897865-5f51-40f0-b7b6-54df26e3ee5f",
   "metadata": {},
   "outputs": [
    {
     "ename": "ValueError",
     "evalue": "The truth value of a Series is ambiguous. Use a.empty, a.bool(), a.item(), a.any() or a.all().",
     "output_type": "error",
     "traceback": [
      "\u001b[0;31m---------------------------------------------------------------------------\u001b[0m",
      "\u001b[0;31mValueError\u001b[0m                                Traceback (most recent call last)",
      "\u001b[0;32m/tmp/ipykernel_2769/1935501489.py\u001b[0m in \u001b[0;36m?\u001b[0;34m()\u001b[0m\n\u001b[1;32m      7\u001b[0m \u001b[0mcols\u001b[0m \u001b[0;34m=\u001b[0m \u001b[0;34m[\u001b[0m\u001b[0;34m'Area_code'\u001b[0m\u001b[0;34m,\u001b[0m\u001b[0;34m'Area'\u001b[0m\u001b[0;34m,\u001b[0m\u001b[0;34m'Self_num_ind'\u001b[0m\u001b[0;34m,\u001b[0m\u001b[0;34m'Self_mean'\u001b[0m\u001b[0;34m,\u001b[0m\u001b[0;34m'Self_median'\u001b[0m\u001b[0;34m,\u001b[0m\u001b[0;34m'Num_ind'\u001b[0m\u001b[0;34m,\u001b[0m\u001b[0;34m'Mean'\u001b[0m\u001b[0;34m,\u001b[0m\u001b[0;34m'Median'\u001b[0m\u001b[0;34m,\u001b[0m\u001b[0;34m'Pens_num_ind'\u001b[0m\u001b[0;34m,\u001b[0m\u001b[0;34m'Pens_mean'\u001b[0m\u001b[0;34m,\u001b[0m\u001b[0;34m'Pens_median'\u001b[0m\u001b[0;34m,\u001b[0m\u001b[0;34m'Other_num_ind'\u001b[0m\u001b[0;34m,\u001b[0m\u001b[0;34m'Other_mean'\u001b[0m\u001b[0;34m,\u001b[0m\u001b[0;34m'Other_median'\u001b[0m\u001b[0;34m,\u001b[0m\u001b[0;34m'Tot_num_ind'\u001b[0m\u001b[0;34m,\u001b[0m\u001b[0;34m'Tot_mean'\u001b[0m\u001b[0;34m,\u001b[0m\u001b[0;34m'Tot_median'\u001b[0m\u001b[0;34m,\u001b[0m\u001b[0;34m'Tax_num_ind'\u001b[0m\u001b[0;34m,\u001b[0m\u001b[0;34m'Tax_mean'\u001b[0m\u001b[0;34m,\u001b[0m\u001b[0;34m'Tax_median'\u001b[0m\u001b[0;34m,\u001b[0m\u001b[0;34m'Tot_tax'\u001b[0m\u001b[0;34m]\u001b[0m\u001b[0;34m\u001b[0m\u001b[0;34m\u001b[0m\u001b[0m\n\u001b[1;32m      8\u001b[0m \u001b[0mIncome\u001b[0m \u001b[0;34m=\u001b[0m \u001b[0mpd\u001b[0m\u001b[0;34m.\u001b[0m\u001b[0mread_csv\u001b[0m\u001b[0;34m(\u001b[0m\u001b[0;34m'income_csv.csv'\u001b[0m\u001b[0;34m,\u001b[0m \u001b[0mnames\u001b[0m\u001b[0;34m=\u001b[0m\u001b[0mcols\u001b[0m\u001b[0;34m)\u001b[0m\u001b[0;34m\u001b[0m\u001b[0;34m\u001b[0m\u001b[0m\n\u001b[1;32m      9\u001b[0m \u001b[0;34m\u001b[0m\u001b[0m\n\u001b[1;32m     10\u001b[0m \u001b[0;31m# Drop not applicable\u001b[0m\u001b[0;34m\u001b[0m\u001b[0;34m\u001b[0m\u001b[0m\n\u001b[0;32m---> 11\u001b[0;31m \u001b[0;32mif\u001b[0m \u001b[0mIncome\u001b[0m\u001b[0;34m[\u001b[0m\u001b[0;34m'Area_code'\u001b[0m\u001b[0;34m]\u001b[0m \u001b[0;34m==\u001b[0m \u001b[0;34m'Not applicable'\u001b[0m\u001b[0;34m:\u001b[0m\u001b[0;34m\u001b[0m\u001b[0;34m\u001b[0m\u001b[0m\n\u001b[0m\u001b[1;32m     12\u001b[0m     \u001b[0mIncome\u001b[0m \u001b[0;34m=\u001b[0m \u001b[0mIncome\u001b[0m\u001b[0;34m.\u001b[0m\u001b[0mdrop\u001b[0m\u001b[0;34m(\u001b[0m\u001b[0;34m'Not applicable'\u001b[0m\u001b[0;34m)\u001b[0m\u001b[0;34m\u001b[0m\u001b[0;34m\u001b[0m\u001b[0m\n\u001b[1;32m     13\u001b[0m \u001b[0;34m\u001b[0m\u001b[0m\n\u001b[1;32m     14\u001b[0m \u001b[0mprint\u001b[0m\u001b[0;34m(\u001b[0m\u001b[0mIncome\u001b[0m\u001b[0;34m)\u001b[0m\u001b[0;34m\u001b[0m\u001b[0;34m\u001b[0m\u001b[0m\n",
      "\u001b[0;32m/usr/local/lib/python3.12/site-packages/pandas/core/generic.py\u001b[0m in \u001b[0;36m?\u001b[0;34m(self)\u001b[0m\n\u001b[1;32m   1575\u001b[0m     \u001b[0;34m@\u001b[0m\u001b[0mfinal\u001b[0m\u001b[0;34m\u001b[0m\u001b[0;34m\u001b[0m\u001b[0m\n\u001b[1;32m   1576\u001b[0m     \u001b[0;32mdef\u001b[0m \u001b[0m__nonzero__\u001b[0m\u001b[0;34m(\u001b[0m\u001b[0mself\u001b[0m\u001b[0;34m)\u001b[0m \u001b[0;34m->\u001b[0m \u001b[0mNoReturn\u001b[0m\u001b[0;34m:\u001b[0m\u001b[0;34m\u001b[0m\u001b[0;34m\u001b[0m\u001b[0m\n\u001b[0;32m-> 1577\u001b[0;31m         raise ValueError(\n\u001b[0m\u001b[1;32m   1578\u001b[0m             \u001b[0;34mf\"\u001b[0m\u001b[0;34mThe truth value of a \u001b[0m\u001b[0;34m{\u001b[0m\u001b[0mtype\u001b[0m\u001b[0;34m(\u001b[0m\u001b[0mself\u001b[0m\u001b[0;34m)\u001b[0m\u001b[0;34m.\u001b[0m\u001b[0m__name__\u001b[0m\u001b[0;34m}\u001b[0m\u001b[0;34m is ambiguous. \u001b[0m\u001b[0;34m\"\u001b[0m\u001b[0;34m\u001b[0m\u001b[0;34m\u001b[0m\u001b[0m\n\u001b[1;32m   1579\u001b[0m             \u001b[0;34m\"Use a.empty, a.bool(), a.item(), a.any() or a.all().\"\u001b[0m\u001b[0;34m\u001b[0m\u001b[0;34m\u001b[0m\u001b[0m\n\u001b[1;32m   1580\u001b[0m         \u001b[0;34m)\u001b[0m\u001b[0;34m\u001b[0m\u001b[0;34m\u001b[0m\u001b[0m\n",
      "\u001b[0;31mValueError\u001b[0m: The truth value of a Series is ambiguous. Use a.empty, a.bool(), a.item(), a.any() or a.all()."
     ]
    }
   ],
   "source": [
    "# Import\n",
    "import pandas as pd\n",
    "import numpy as np\n",
    "\n",
    "# Read in and assign column names\n",
    "# Income data\n",
    "cols = ['Area_code','Area','Self_num_ind','Self_mean','Self_median','Num_ind','Mean','Median','Pens_num_ind','Pens_mean','Pens_median','Other_num_ind','Other_mean','Other_median','Tot_num_ind','Tot_mean','Tot_median','Tax_num_ind','Tax_mean','Tax_median','Tot_tax']\n",
    "Income = pd.read_csv('income_csv.csv', names=cols)\n",
    "\n",
    "# Drop not applicable\n",
    "\n",
    "print(Income)"
   ]
  },
  {
   "cell_type": "code",
   "execution_count": null,
   "id": "b79ec69c",
   "metadata": {},
   "outputs": [],
   "source": []
  }
 ],
 "metadata": {
  "kernelspec": {
   "display_name": "Python 3",
   "language": "python",
   "name": "python3"
  },
  "language_info": {
   "codemirror_mode": {
    "name": "ipython",
    "version": 3
   },
   "file_extension": ".py",
   "mimetype": "text/x-python",
   "name": "python",
   "nbconvert_exporter": "python",
   "pygments_lexer": "ipython3",
   "version": "3.12.7"
  }
 },
 "nbformat": 4,
 "nbformat_minor": 5
}
