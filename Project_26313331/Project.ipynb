{
 "cells": [
  {
   "cell_type": "code",
   "execution_count": 16,
   "id": "44220778-f414-418c-9494-80ed799b35c7",
   "metadata": {},
   "outputs": [],
   "source": [
    "#Use findspark to confirm pyspark works\n",
    "import findspark\n",
    "import streamlit\n",
    "findspark.init()"
   ]
  },
  {
   "cell_type": "code",
   "execution_count": null,
   "id": "6e105e07-882d-499e-be1c-8c09aa115977",
   "metadata": {},
   "outputs": [],
   "source": [
    "#Import pyspark\n",
    "import pyspark\n",
    "from pyspark import SparkContext, SparkConf\n",
    "from collections import Counter\n",
    "from pyspark.sql.types import IntegerType\n",
    "from pyspark.sql.functions import split, col\n",
    "\n",
    "from pyspark.sql import SparkSession\n",
    "spark = SparkSession.builder.getOrCreate()\n",
    "\n",
    "conf = SparkConf().setAppName('Project').setMaster('local')\n",
    "sparkContext = SparkContext.getOrCreate(conf=conf) #SparkContext(conf = conf)"
   ]
  },
  {
   "cell_type": "code",
   "execution_count": 45,
   "id": "89897865-5f51-40f0-b7b6-54df26e3ee5f",
   "metadata": {},
   "outputs": [
    {
     "name": "stdout",
     "output_type": "stream",
     "text": [
      "+-------+------+-----+-----+----------+-----+---------+-------+------+----------+----------+----+------+\n",
      "|Revenue|  Cost|Gross|Other|Disp_close|Admin|Operating|Fin_out|Fin_in|Share_loss|Before_tax| Tax|Profit|\n",
      "+-------+------+-----+-----+----------+-----+---------+-------+------+----------+----------+----+------+\n",
      "|  18358|-17857|  501|  114|         0| -308|      307|    -77|     7|        -1|       236| -34|   202|\n",
      "|      0|   -26|  -26|    0|         1| -193|     -218|      0|    33|         0|      -185|  35|  -150|\n",
      "|  18358|-17883|  475|  114|         1| -501|       89|    -77|    40|        -1|        51|   1|    52|\n",
      "|  18479|-18075|  404|  123|         0| -281|      246|    -67|     3|        -1|       181| -33|   148|\n",
      "|      0|   -13|  -13|    0|        10| -225|     -228|    -21|    30|         0|      -219|  41|  -178|\n",
      "|  18479|-18088|  391|  123|        10| -506|       18|    -88|    33|        -1|       -38|   8|   -30|\n",
      "|  65762|-61005| 4690| 1634|         0|-2060|     2630|   -647|    85|         8|      2076|-442|  1634|\n",
      "|      0|  1029|-1029| -881|        -9|  -76|    -1105|     29|     0|         0|     -1076| 195|  -890|\n",
      "|  65762|-59976| 3661|  753|        -9|-2136|     1525|   -618|    85|         8|      1000|-247|   744|\n",
      "|  61344|-56574| 4809| 1695|        -2|-1984|     2825|   -652|     9|        15|      2197|-502|  1693|\n",
      "|      0|  -176| -176| -172|       -38|  -89|     -265|    101|     0|         0|      -164|  -8|  -210|\n",
      "|  61344|-56750| 4633| 1523|       -40|-2073|     2560|   -551|     9|        15|      2033|-510|  1483|\n",
      "|  31491|-28996| 2417|   35|      NULL|-1480|     NULL|   -300|    18|      NULL|       690|-157|   533|\n",
      "|      0|  -413| -413|   38|      NULL|  -35|     NULL|     -9|    56|      NULL|      -363|  37|  -326|\n",
      "|  31491|-29409| 2004|   73|      NULL|-1515|     NULL|   -309|    74|      NULL|       327|-120|   207|\n",
      "|  29895|-27523| NULL|   34|      NULL|-1352|     NULL|   -312|     3|      NULL|       730|-154|   576|\n",
      "|      0|     9| NULL|  186|      NULL|  -78|     NULL|    -10|    17|      NULL|       124| -23|   101|\n",
      "|  29895|-27514|    0|  220|      NULL|-1430|     NULL|   -322|    20|      NULL|       854|-177|   677|\n",
      "|  55435|-37694|13741|  -58|      NULL|-2947|     NULL|   NULL|  NULL|      NULL|      1858|-554|  1303|\n",
      "|  48679|-35902|12777|   54|      NULL|-2551|     NULL|   NULL|  NULL|      NULL|      1673|-427|  6355|\n",
      "+-------+------+-----+-----+----------+-----+---------+-------+------+----------+----------+----+------+\n",
      "\n"
     ]
    }
   ],
   "source": [
    "# Read in and assign column names\n",
    "# Income data\n",
    "Income = spark.read.csv('income_csv.csv',header=False)\n",
    "Income = Income.toDF('Area_code','Area','Self_num_ind','Self_mean','Self_median','Num_ind','Mean','Median','Pens_num_ind','Pens_mean',\n",
    "                     'Pens_median','Other_num_ind','Other_mean','Other_median','Tot_num_ind','Tot_mean','Tot_median','Tax_num_ind','Tax_mean','Tax_median','Tot_tax')\n",
    "\n",
    "# Drop not applicable\n",
    "Income = Income.na.drop()\n",
    "\n",
    "# Remove original formatting\n",
    "Income = Income.filter(Income.Area!='Region/County')\n",
    "\n",
    "# Population data\n",
    "Population = spark.read.csv('population_data.csv',header=False)\n",
    "Population = Population.toDF('Code','Name','Geography','All ages','0','1','2','3','4','5','6','7','8','9','10','11','12','13','14','15',\n",
    "                     '16','17','18','19','20','21','22','23','24','25','26','27','28','29','30','31','32','33','34','35','36','37',\n",
    "                     '38','39','40','41','42','43','44','45','46','47','48','49','50','51','52','53','54','55','56','57','58','59',\n",
    "                     '60','61','62','63','64','65','66','67','68','69','70','71','72','73','74','75','76','77','78','79','80','81','82','83','84','85','86','87','88','89','90+')\n",
    "\n",
    "# Drop not applicable\n",
    "Population = Population.na.drop()\n",
    "\n",
    "# Remove original formatting\n",
    "Population = Population.filter(Population.Code!='Code')\n",
    "\n",
    "# Income data\n",
    "Statements = spark.read.csv('Transposed_Consolidated_Income_Statements.csv',header=False)\n",
    "Statements = Statements.toDF('Company','Fina_period','State','Revenue','Cost','Gross','Other','Disp_close','Admin','Operating','Fin_out','Fin_in','Share_loss','Before_tax','Tax','Profit')\n",
    "\n",
    "# Remove original formatting\n",
    "Statements = Statements.drop(col('Company'))\n",
    "Statements = Statements.drop(col('Fina_period'))\n",
    "Statements = Statements.drop(col('State'))\n",
    "\n",
    "# Remove original formatting\n",
    "Statements = Statements.filter(Statements.Cost!='Cost of sales')\n",
    "\n",
    "Statements.show()"
   ]
  },
  {
   "cell_type": "code",
   "execution_count": null,
   "id": "b79ec69c",
   "metadata": {},
   "outputs": [],
   "source": []
  }
 ],
 "metadata": {
  "kernelspec": {
   "display_name": "Python 3",
   "language": "python",
   "name": "python3"
  },
  "language_info": {
   "codemirror_mode": {
    "name": "ipython",
    "version": 3
   },
   "file_extension": ".py",
   "mimetype": "text/x-python",
   "name": "python",
   "nbconvert_exporter": "python",
   "pygments_lexer": "ipython3",
   "version": "3.12.7"
  }
 },
 "nbformat": 4,
 "nbformat_minor": 5
}
