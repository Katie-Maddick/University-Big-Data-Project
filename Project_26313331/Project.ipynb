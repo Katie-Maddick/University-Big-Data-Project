{
 "cells": [
  {
   "cell_type": "code",
   "execution_count": 1,
   "id": "44220778-f414-418c-9494-80ed799b35c7",
   "metadata": {},
   "outputs": [],
   "source": [
    "# Don't use this or you can't visualise the data for some reason\n",
    "#import findspark\n",
    "#import streamlit\n",
    "#findspark.init()"
   ]
  },
  {
   "cell_type": "code",
   "execution_count": 2,
   "id": "6e105e07-882d-499e-be1c-8c09aa115977",
   "metadata": {},
   "outputs": [
    {
     "name": "stderr",
     "output_type": "stream",
     "text": [
      "/usr/local/lib/python3.12/site-packages/pyspark/bin/load-spark-env.sh: line 68: ps: command not found\n",
      "Setting default log level to \"WARN\".\n",
      "To adjust logging level use sc.setLogLevel(newLevel). For SparkR, use setLogLevel(newLevel).\n",
      "25/03/18 12:44:52 WARN NativeCodeLoader: Unable to load native-hadoop library for your platform... using builtin-java classes where applicable\n"
     ]
    }
   ],
   "source": [
    "#Imports\n",
    "import pyspark\n",
    "from pyspark import SparkContext, SparkConf\n",
    "from collections import Counter\n",
    "from pyspark.sql.types import IntegerType\n",
    "from pyspark.sql.functions import split, col\n",
    "\n",
    "from pyspark.sql import SparkSession\n",
    "#spark = SparkSession.builder.getOrCreate()\n",
    "spark = SparkSession.builder.master('local[10]').config('spark.driver.memory','10g').getOrCreate()\n",
    "\n",
    "conf = SparkConf().setAppName('Project').setMaster('local')\n",
    "sparkContext = SparkContext.getOrCreate(conf=conf) #SparkContext(conf = conf)"
   ]
  },
  {
   "cell_type": "code",
   "execution_count": null,
   "id": "89897865-5f51-40f0-b7b6-54df26e3ee5f",
   "metadata": {},
   "outputs": [
    {
     "name": "stdout",
     "output_type": "stream",
     "text": [
      "+---------+--------------------+---------+-----+---------+\n",
      "|    Codes|                Name|Morrisons|Tesco|Sainsbury|\n",
      "+---------+--------------------+---------+-----+---------+\n",
      "|     Code|                Name|Morrisons|Tesco|Sainburys|\n",
      "|E12000001|          NORTH EAST|       31| #N/A|     #N/A|\n",
      "|E12000002|          NORTH WEST|       67| #N/A|     #N/A|\n",
      "|E12000003|YORKSHIRE AND THE...|       55| #N/A|     #N/A|\n",
      "|E12000004|       EAST MIDLANDS|       39| #N/A|     #N/A|\n",
      "|E12000005|       WEST MIDLANDS|       48| #N/A|     #N/A|\n",
      "|E12000006|                EAST|       47| #N/A|     #N/A|\n",
      "|E12000007|              LONDON|       32| #N/A|     #N/A|\n",
      "|E12000008|          SOUTH EAST|       45| #N/A|     #N/A|\n",
      "|E12000009|          SOUTH WEST|       48| #N/A|     #N/A|\n",
      "|S92000003|            SCOTLAND|       63|  226|      102|\n",
      "|W92000004|               WALES|       31|  126|       30|\n",
      "|E92000001|             ENGLAND|      506| 2529|     1310|\n",
      "+---------+--------------------+---------+-----+---------+\n",
      "\n"
     ]
    }
   ],
   "source": [
    "# Read in and assign column names\n",
    "# Income data\n",
    "Income = spark.read.csv('income_csv_cleaned_no_commas.csv',header=False)\n",
    "Income = Income.toDF('Area_code','Area','Self_num_ind','Self_mean','Self_median','Num_ind','Mean','Median','Pens_num_ind','Pens_mean',\n",
    "                     'Pens_median','Other_num_ind','Other_mean','Other_median','Tot_num_ind','Tot_mean','Tot_median','Tax_num_ind','Tax_mean','Tax_median','Tot_tax')\n",
    "\n",
    "# Drop not applicable\n",
    "Income = Income.na.drop()\n",
    "Income = Income.filter(Income.Area_code!='Not applicable')\n",
    "\n",
    "# Remove original formatting\n",
    "Income = Income.filter(Income.Area!='Region/County')\n",
    "\n",
    "# Population data\n",
    "Population = spark.read.csv('population_data.csv',header=False)\n",
    "Population = Population.toDF('Code','Name','Geography','All_ages','0','1','2','3','4','5','6','7','8','9','10','11','12','13','14','15',\n",
    "                     '16','17','18','19','20','21','22','23','24','25','26','27','28','29','30','31','32','33','34','35','36','37',\n",
    "                     '38','39','40','41','42','43','44','45','46','47','48','49','50','51','52','53','54','55','56','57','58','59',\n",
    "                     '60','61','62','63','64','65','66','67','68','69','70','71','72','73','74','75','76','77','78','79','80','81','82','83','84','85','86','87','88','89','90+')\n",
    "\n",
    "# Drop not applicable\n",
    "Population = Population.na.drop()\n",
    "\n",
    "# Remove original formatting\n",
    "Population = Population.filter(Population.Code!='Code')\n",
    "\n",
    "# Income data\n",
    "Statements = spark.read.csv('Transposed_Consolidated_Income_Statements.csv',header=False)\n",
    "Statements = Statements.toDF('Company','Fina_period','State','Revenue','Cost','Gross','Other','Disp_close','Admin','Operating','Fin_out','Fin_in','Share_loss','Before_tax','Tax','Profit')\n",
    "\n",
    "# Remove original formatting\n",
    "Statements = Statements.drop(col('Company'))\n",
    "Statements = Statements.drop(col('Fina_period'))\n",
    "Statements = Statements.drop(col('State'))\n",
    "\n",
    "# Remove original formatting\n",
    "Statements = Statements.filter(Statements.Cost!='Cost of sales')\n",
    "\n",
    "# Stores data\n",
    "Stores = spark.read.csv('Stores1.csv',header=False)\n",
    "Stores = Stores.toDF('Codes','Name','Morrisons','Tesco','Sainsbury')\n",
    "\n",
    "#Stores.show()"
   ]
  },
  {
   "cell_type": "code",
   "execution_count": null,
   "id": "a564a1e2",
   "metadata": {},
   "outputs": [],
   "source": [
    "#Population.show()"
   ]
  },
  {
   "cell_type": "code",
   "execution_count": 5,
   "id": "6fc2c1ed",
   "metadata": {},
   "outputs": [],
   "source": [
    "#Statements.show()"
   ]
  },
  {
   "cell_type": "code",
   "execution_count": 24,
   "id": "5203cbf9",
   "metadata": {},
   "outputs": [
    {
     "name": "stdout",
     "output_type": "stream",
     "text": [
      "+---------+--------------------+--------+\n",
      "|     Code|           Geography|All_ages|\n",
      "+---------+--------------------+--------+\n",
      "|K04000001|             Country|60854727|\n",
      "|E92000001|             Country|57690323|\n",
      "|E12000001|              Region| 2711380|\n",
      "|E06000047|   Unitary Authority|  532182|\n",
      "|E06000005|   Unitary Authority|  110562|\n",
      "|E06000001|   Unitary Authority|   95366|\n",
      "|E06000002|   Unitary Authority|  152650|\n",
      "|E06000057|   Unitary Authority|  327055|\n",
      "|E06000003|   Unitary Authority|  137938|\n",
      "|E06000004|   Unitary Authority|  202415|\n",
      "|E11000007| Metropolitan County| 1153212|\n",
      "|E08000037|Metropolitan Dist...|  199139|\n",
      "|E08000021|Metropolitan Dist...|  311976|\n",
      "|E08000022|Metropolitan Dist...|  211769|\n",
      "|E08000023|Metropolitan Dist...|  149270|\n",
      "|E08000024|Metropolitan Dist...|  281058|\n",
      "|E12000002|              Region| 7600126|\n",
      "|E06000008|   Unitary Authority|  157503|\n",
      "|E06000009|   Unitary Authority|  142708|\n",
      "|E06000049|   Unitary Authority|  412458|\n",
      "+---------+--------------------+--------+\n",
      "only showing top 20 rows\n",
      "\n"
     ]
    }
   ],
   "source": [
    "import numpy as np\n",
    "from pyspark.sql import functions as F\n",
    "from pyspark.sql.functions import monotonically_increasing_id\n",
    "\n",
    "# Condensing the data to only what is relevant\n",
    "# Dropping self employement data\n",
    "\n",
    "# Income condensed\n",
    "Cond_Inc = Income\n",
    "\n",
    "Cond_Inc = Cond_Inc.drop(col('Self_num_ind'))\n",
    "Cond_Inc = Cond_Inc.drop(col('Self_mean'))\n",
    "Cond_Inc = Cond_Inc.drop(col('Self_median'))\n",
    "\n",
    "# Dropping pension data\n",
    "Cond_Inc = Cond_Inc.drop(col('Pens_num_ind'))\n",
    "Cond_Inc = Cond_Inc.drop(col('Pens_mean'))\n",
    "Cond_Inc = Cond_Inc.drop(col('Pens_median'))\n",
    "\n",
    "# Remove the non-applicable areas\n",
    "Cond_Inc = Cond_Inc.filter(Cond_Inc.Area_code != 'Not applicable')\n",
    "\n",
    "# Population condensed\n",
    "Cond_Pop = Population\n",
    "\n",
    "# Dropping columns for individual ages\n",
    "for colu in range(0,90):\n",
    "    Cond_Pop = Cond_Pop.drop('',col(str(colu)))\n",
    "\n",
    "Cond_Pop = Cond_Pop.drop(col('90+'))\n",
    "\n",
    "# Dropping repeated data in both population and income\n",
    "Cond_Pop = Cond_Pop.drop(col('Name'))\n",
    "\n",
    "# Join two dataframes\n",
    "Data = Cond_Pop.join(Cond_Inc,Cond_Inc.Area_code == Cond_Pop.Code,'inner')\n",
    "Data = Data.drop(col('Area_code'))\n",
    "\n",
    "# Add new primary key\n",
    "Data = Data.withColumn(\"id\", monotonically_increasing_id())\n",
    "\n",
    "# Get all codes in the new dataframe\n",
    "codes = [row.Code for row in Data.select('Code').collect()]\n",
    "\n",
    "# Temporary store for string data types with primary key\n",
    "Temp_Store = Data.select('id','Code','Area')\n",
    "Temp_Store = Temp_Store.withColumnRenamed('id', 'id1')\n",
    "\n",
    "# Drop string data type columns\n",
    "Data = Data.drop(col('Code'))\n",
    "Data = Data.drop(col('Area'))\n",
    "\n",
    "# Changes data type\n",
    "for c in Data.columns:\n",
    "    Data = Data.withColumn(c, F.col(c).cast(IntegerType()))\n",
    "\n",
    "# Creates a single database\n",
    "Cast_Data = Data.join(Temp_Store,Data.id == Temp_Store.id1,'full_outer')\n",
    "Cast_Data = Cast_Data.drop(col('id1'))\n",
    "\n",
    "Cast_Data = Cast_Data.filter(Cast_Data.id!=0)\n",
    "\n",
    "Cond_Pop.show()"
   ]
  },
  {
   "cell_type": "code",
   "execution_count": 25,
   "id": "55ffdac9",
   "metadata": {},
   "outputs": [],
   "source": [
    "# Regions based data\n",
    "# Create region table\n",
    "Region = Cond_Pop.join(Stores,Stores.Codes == Cond_Pop.Code,'inner')\n",
    "Region = Region.drop(col('Codes'))\n"
   ]
  },
  {
   "cell_type": "code",
   "execution_count": null,
   "id": "a063911a",
   "metadata": {},
   "outputs": [
    {
     "data": {
      "text/plain": [
       "<matplotlib.legend.Legend at 0x7f0a1ac630e0>"
      ]
     },
     "execution_count": 21,
     "metadata": {},
     "output_type": "execute_result"
    },
    {
     "data": {
      "image/png": "[encoded data removed]",
      "text/plain": [
       "<Figure size 640x480 with 1 Axes>"
      ]
     },
     "metadata": {},
     "output_type": "display_data"
    }
   ],
   "source": [
    "import sys\n",
    "import matplotlib # pip install matplotlib\n",
    "import matplotlib.pyplot as plt\n",
    "import matplotlib.patches as mpatch\n",
    "\n",
    "# Convert to Pandas\n",
    "Pop = Cond_Pop.toPandas()\n",
    "Inc = Cond_Inc.toPandas()\n",
    "Sta = Statements.toPandas()\n",
    "Dat = Cast_Data.toPandas()\n",
    "Reg = Region.toPandas()\n",
    "\n",
    "# Visualise data\n",
    "Ages = Dat['All_ages'].values.tolist()\n",
    "Tax = Dat['Tot_tax'].values.tolist()\n",
    "\n",
    "# Create blank list\n",
    "avg_tax = []\n",
    "\n",
    "for i in range(len(Ages)):\n",
    "    avg_tax.append(Ages[i]/Tax[i])\n",
    "\n",
    "'''\n",
    "# Create line of best fit\n",
    "z = np.polyfit(x=Dat.loc[:,'All_ages'],y=Dat.loc[:,'Tot_tax'],deg=1)\n",
    "p = np.poly1d(z)\n",
    "Dat['Trendline'] = p(Dat.loc[:,'All_ages'])\n",
    "'''\n",
    "cat_var = []\n",
    "\n",
    "# Create category\n",
    "for i in range(len(avg_tax)):\n",
    "    if avg_tax[i] > 469:\n",
    "        cat_var.append('Lower')\n",
    "    elif avg_tax[i] > 386 and avg_tax[i] < 469:\n",
    "        cat_var.append('Lower middle')\n",
    "    elif avg_tax[i] > 275 and avg_tax[i] < 386:\n",
    "        cat_var.append('Upper middle')\n",
    "    else:\n",
    "        cat_var.append('Upper')\n",
    "\n",
    "# Add cat_var to dataframe\n",
    "Dat['Class'] = cat_var\n",
    "Dat['Avg_tax'] = avg_tax\n",
    "\n",
    "\n",
    "# Create the groups seen in graph\n",
    "colours = {'Lower': 'red', 'Lower middle': 'pink', 'Upper middle': 'purple', 'Upper': 'blue'}\n",
    "colour_list = [colours[group] for group in cat_var]\n",
    "\n",
    "# Create scatter graph\n",
    "legend_handles = [mpatch.Patch(color=colours['Lower'],label='Lower'),\n",
    "                  mpatch.Patch(color=colours['Lower middle'],label='Lower middle'),\n",
    "                  mpatch.Patch(color=colours['Upper middle'],label='Upper middle'),\n",
    "                  mpatch.Patch(color=colours['Upper'],label='Upper')]\n",
    "\n",
    "gro_ax = Dat.plot.scatter('Avg_tax','All_ages',c=colour_list,grid=True)\n",
    "gro_ax.set_title('Tax vs. People')\n",
    "gro_ax.set_xlabel('Tax')\n",
    "gro_ax.set_ylabel('People')\n",
    "gro_ax.legend(handles=legend_handles)"
   ]
  },
  {
   "cell_type": "code",
   "execution_count": null,
   "id": "4e225ac6",
   "metadata": {},
   "outputs": [
    {
     "name": "stdout",
     "output_type": "stream",
     "text": [
      "[[], ['', 'K04000001'], ['', 'E92000001'], ['E12000001', 'E12000001'], ['E12000001', 'E06000047'], ['E12000001', 'E06000005'], ['E12000001', 'E06000001'], ['E12000001', 'E06000002'], ['E12000001', 'E06000057'], ['E12000001', 'E06000003'], ['E12000001', 'E06000004'], ['E12000001', 'E11000007'], ['E12000001', 'E08000037'], ['E12000001', 'E08000021'], ['E12000001', 'E08000022'], ['E12000001', 'E08000023'], ['E12000001', 'E08000024'], ['E12000002', 'E12000002'], ['E12000002', 'E06000008'], ['E12000002', 'E06000009'], ['E12000002', 'E06000049'], ['E12000002', 'E06000050'], ['E12000002', 'E06000063'], ['E12000002', 'E06000006'], ['E12000002', 'E06000007'], ['E12000002', 'E06000064'], ['E12000002', 'E11000001'], ['E12000002', 'E08000001'], ['E12000002', 'E08000002'], ['E12000002', 'E08000003'], ['E12000002', 'E08000004'], ['E12000002', 'E08000005'], ['E12000002', 'E08000006'], ['E12000002', 'E08000007'], ['E12000002', 'E08000008'], ['E12000002', 'E08000009'], ['E12000002', 'E08000010'], ['E12000002', 'E10000017'], ['E12000002', 'E07000117'], ['E12000002', 'E07000118'], ['E12000002', 'E07000119'], ['E12000002', 'E07000120'], ['E12000002', 'E07000121'], ['E12000002', 'E07000122'], ['E12000002', 'E07000123'], ['E12000002', 'E07000124'], ['E12000002', 'E07000125'], ['E12000002', 'E07000126'], ['E12000002', 'E07000127'], ['E12000002', 'E07000128'], ['E12000002', 'E11000002'], ['E12000002', 'E08000011'], ['E12000002', 'E08000012'], ['E12000002', 'E08000014'], ['E12000002', 'E08000013'], ['E12000002', 'E08000015'], ['E12000003', 'E12000003'], ['E12000003', 'E06000011'], ['E12000003', 'E06000010'], ['E12000003', 'E06000012'], ['E12000003', 'E06000013'], ['E12000003', 'E06000065'], ['E12000003', 'E06000014'], ['E12000003', 'E11000003'], ['E12000003', 'E08000016'], ['E12000003', 'E08000017'], ['E12000003', 'E08000018'], ['E12000003', 'E08000019'], ['E12000003', 'E11000006'], ['E12000003', 'E08000032'], ['E12000003', 'E08000033'], ['E12000003', 'E08000034'], ['E12000003', 'E08000035'], ['E12000003', 'E08000036'], ['E12000004', 'E12000004'], ['E12000004', 'E06000015'], ['E12000004', 'E06000016'], ['E12000004', 'E06000061'], ['E12000004', 'E06000018'], ['E12000004', 'E06000017'], ['E12000004', 'E06000062'], ['E12000004', 'E10000007'], ['E12000004', 'E07000032'], ['E12000004', 'E07000033'], ['E12000004', 'E07000034'], ['E12000004', 'E07000035'], ['E12000004', 'E07000036'], ['E12000004', 'E07000037'], ['E12000004', 'E07000038'], ['E12000004', 'E07000039'], ['E12000004', 'E10000018'], ['E12000004', 'E07000129'], ['E12000004', 'E07000130'], ['E12000004', 'E07000131'], ['E12000004', 'E07000132'], ['E12000004', 'E07000133'], ['E12000004', 'E07000134'], ['E12000004', 'E07000135'], ['E12000004', 'E10000019'], ['E12000004', 'E07000136'], ['E12000004', 'E07000137'], ['E12000004', 'E07000138'], ['E12000004', 'E07000139'], ['E12000004', 'E07000140'], ['E12000004', 'E07000141'], ['E12000004', 'E07000142'], ['E12000004', 'E10000024'], ['E12000004', 'E07000170'], ['E12000004', 'E07000171'], ['E12000004', 'E07000172'], ['E12000004', 'E07000173'], ['E12000004', 'E07000174'], ['E12000004', 'E07000175'], ['E12000004', 'E07000176'], ['E12000005', 'E12000005'], ['E12000005', 'E06000019'], ['E12000005', 'E06000051'], ['E12000005', 'E06000021'], ['E12000005', 'E06000020'], ['E12000005', 'E10000028'], ['E12000005', 'E07000192'], ['E12000005', 'E07000193'], ['E12000005', 'E07000194'], ['E12000005', 'E07000195'], ['E12000005', 'E07000196'], ['E12000005', 'E07000197'], ['E12000005', 'E07000198'], ['E12000005', 'E07000199'], ['E12000005', 'E10000031'], ['E12000005', 'E07000218'], ['E12000005', 'E07000219'], ['E12000005', 'E07000220'], ['E12000005', 'E07000221'], ['E12000005', 'E07000222'], ['E12000005', 'E11000005'], ['E12000005', 'E08000025'], ['E12000005', 'E08000026'], ['E12000005', 'E08000027'], ['E12000005', 'E08000028'], ['E12000005', 'E08000029'], ['E12000005', 'E08000030'], ['E12000005', 'E08000031'], ['E12000005', 'E10000034'], ['E12000005', 'E07000234'], ['E12000005', 'E07000235'], ['E12000005', 'E07000236'], ['E12000005', 'E07000237'], ['E12000005', 'E07000238'], ['E12000005', 'E07000239'], ['E12000006', 'E12000006'], ['E12000006', 'E06000055'], ['E12000006', 'E06000056'], ['E12000006', 'E06000032'], ['E12000006', 'E06000031'], ['E12000006', 'E06000033'], ['E12000006', 'E06000034'], ['E12000006', 'E10000003'], ['E12000006', 'E07000008'], ['E12000006', 'E07000009'], ['E12000006', 'E07000010'], ['E12000006', 'E07000011'], ['E12000006', 'E07000012'], ['E12000006', 'E10000012'], ['E12000006', 'E07000066'], ['E12000006', 'E07000067'], ['E12000006', 'E07000068'], ['E12000006', 'E07000069'], ['E12000006', 'E07000070'], ['E12000006', 'E07000071'], ['E12000006', 'E07000072'], ['E12000006', 'E07000073'], ['E12000006', 'E07000074'], ['E12000006', 'E07000075'], ['E12000006', 'E07000076'], ['E12000006', 'E07000077'], ['E12000006', 'E10000015'], ['E12000006', 'E07000095'], ['E12000006', 'E07000096'], ['E12000006', 'E07000242'], ['E12000006', 'E07000098'], ['E12000006', 'E07000099'], ['E12000006', 'E07000240'], ['E12000006', 'E07000243'], ['E12000006', 'E07000102'], ['E12000006', 'E07000103'], ['E12000006', 'E07000241'], ['E12000006', 'E10000020'], ['E12000006', 'E07000143'], ['E12000006', 'E07000144'], ['E12000006', 'E07000145'], ['E12000006', 'E07000146'], ['E12000006', 'E07000147'], ['E12000006', 'E07000148'], ['E12000006', 'E07000149'], ['E12000006', 'E10000029'], ['E12000006', 'E07000200'], ['E12000006', 'E07000244'], ['E12000006', 'E07000202'], ['E12000006', 'E07000203'], ['E12000006', 'E07000245'], ['E12000007', 'E12000007'], ['E12000007', 'E09000007'], ['E12000007', 'E09000001'], ['E12000007', 'E09000012'], ['E12000007', 'E09000013'], ['E12000007', 'E09000014'], ['E12000007', 'E09000019'], ['E12000007', 'E09000020'], ['E12000007', 'E09000022'], ['E12000007', 'E09000023'], ['E12000007', 'E09000025'], ['E12000007', 'E09000028'], ['E12000007', 'E09000030'], ['E12000007', 'E09000032'], ['E12000007', 'E09000033'], ['E12000007', 'E09000002'], ['E12000007', 'E09000003'], ['E12000007', 'E09000004'], ['E12000007', 'E09000005'], ['E12000007', 'E09000006'], ['E12000007', 'E09000008'], ['E12000007', 'E09000009'], ['E12000007', 'E09000010'], ['E12000007', 'E09000011'], ['E12000007', 'E09000015'], ['E12000007', 'E09000016'], ['E12000007', 'E09000017'], ['E12000007', 'E09000018'], ['E12000007', 'E09000021'], ['E12000007', 'E09000024'], ['E12000007', 'E09000026'], ['E12000007', 'E09000027'], ['E12000007', 'E09000029'], ['E12000007', 'E09000031'], ['E12000008', 'E12000008'], ['E12000008', 'E06000036'], ['E12000008', 'E06000043'], ['E12000008', 'E06000046'], ['E12000008', 'E06000035'], ['E12000008', 'E06000042'], ['E12000008', 'E06000044'], ['E12000008', 'E06000038'], ['E12000008', 'E06000039'], ['E12000008', 'E06000045'], ['E12000008', 'E06000037'], ['E12000008', 'E06000040'], ['E12000008', 'E06000041'], ['E12000008', 'E06000060'], ['E12000008', 'E10000011'], ['E12000008', 'E07000061'], ['E12000008', 'E07000062'], ['E12000008', 'E07000063'], ['E12000008', 'E07000064'], ['E12000008', 'E07000065'], ['E12000008', 'E10000014'], ['E12000008', 'E07000084'], ['E12000008', 'E07000085'], ['E12000008', 'E07000086'], ['E12000008', 'E07000087'], ['E12000008', 'E07000088'], ['E12000008', 'E07000089'], ['E12000008', 'E07000090'], ['E12000008', 'E07000091'], ['E12000008', 'E07000092'], ['E12000008', 'E07000093'], ['E12000008', 'E07000094'], ['E12000008', 'E10000016'], ['E12000008', 'E07000105'], ['E12000008', 'E07000106'], ['E12000008', 'E07000107'], ['E12000008', 'E07000108'], ['E12000008', 'E07000112'], ['E12000008', 'E07000109'], ['E12000008', 'E07000110'], ['E12000008', 'E07000111'], ['E12000008', 'E07000113'], ['E12000008', 'E07000114'], ['E12000008', 'E07000115'], ['E12000008', 'E07000116'], ['E12000008', 'E10000025'], ['E12000008', 'E07000177'], ['E12000008', 'E07000178'], ['E12000008', 'E07000179'], ['E12000008', 'E07000180'], ['E12000008', 'E07000181'], ['E12000008', 'E10000030'], ['E12000008', 'E07000207'], ['E12000008', 'E07000208'], ['E12000008', 'E07000209'], ['E12000008', 'E07000210'], ['E12000008', 'E07000211'], ['E12000008', 'E07000212'], ['E12000008', 'E07000213'], ['E12000008', 'E07000214'], ['E12000008', 'E07000215'], ['E12000008', 'E07000216'], ['E12000008', 'E07000217'], ['E12000008', 'E10000032'], ['E12000008', 'E07000223'], ['E12000008', 'E07000224'], ['E12000008', 'E07000225'], ['E12000008', 'E07000226'], ['E12000008', 'E07000227'], ['E12000008', 'E07000228'], ['E12000008', 'E07000229'], ['E12000009', 'E12000009'], ['E12000009', 'E06000022'], ['E12000009', 'E06000058'], ['E12000009', 'E06000023'], ['E12000009', 'E06000052'], ['E12000009', 'E06000059'], ['E12000009', 'E06000053'], ['E12000009', 'E06000024'], ['E12000009', 'E06000026'], ['E12000009', 'E06000066'], ['E12000009', 'E06000025'], ['E12000009', 'E06000030'], ['E12000009', 'E06000027'], ['E12000009', 'E06000054'], ['E12000009', 'E10000008'], ['E12000009', 'E07000040'], ['E12000009', 'E07000041'], ['E12000009', 'E07000042'], ['E12000009', 'E07000043'], ['E12000009', 'E07000044'], ['E12000009', 'E07000045'], ['E12000009', 'E07000046'], ['E12000009', 'E07000047'], ['E12000009', 'E10000013'], ['E12000009', 'E07000078'], ['E12000009', 'E07000079'], ['E12000009', 'E07000080'], ['E12000009', 'E07000081'], ['E12000009', 'E07000082'], ['E12000009', 'E07000083'], ['E12000009', 'W92000004'], ['E12000009', 'W06000001'], ['E12000009', 'W06000002'], ['E12000009', 'W06000003'], ['E12000009', 'W06000004'], ['E12000009', 'W06000005'], ['E12000009', 'W06000006'], ['E12000009', 'W06000023'], ['E12000009', 'W06000008'], ['E12000009', 'W06000009'], ['E12000009', 'W06000010'], ['E12000009', 'W06000011'], ['E12000009', 'W06000012'], ['E12000009', 'W06000013'], ['E12000009', 'W06000014'], ['E12000009', 'W06000015'], ['E12000009', 'W06000016'], ['E12000009', 'W06000024'], ['E12000009', 'W06000018'], ['E12000009', 'W06000019'], ['E12000009', 'W06000020'], ['E12000009', 'W06000021'], ['E12000009', 'W06000022']]\n"
     ]
    },
    {
     "ename": "IndexError",
     "evalue": "list index out of range",
     "output_type": "error",
     "traceback": [
      "\u001b[0;31m---------------------------------------------------------------------------\u001b[0m",
      "\u001b[0;31mIndexError\u001b[0m                                Traceback (most recent call last)",
      "Cell \u001b[0;32mIn[38], line 25\u001b[0m\n\u001b[1;32m     23\u001b[0m \u001b[38;5;66;03m# Calculate the regions average tax\u001b[39;00m\n\u001b[1;32m     24\u001b[0m \u001b[38;5;28;01mfor\u001b[39;00m i \u001b[38;5;129;01min\u001b[39;00m \u001b[38;5;28mrange\u001b[39m(\u001b[38;5;241m0\u001b[39m, \u001b[38;5;28mlen\u001b[39m(District)):\n\u001b[0;32m---> 25\u001b[0m     current \u001b[38;5;241m=\u001b[39m \u001b[43mDistrict\u001b[49m\u001b[43m[\u001b[49m\u001b[43mi\u001b[49m\u001b[43m]\u001b[49m\u001b[43m[\u001b[49m\u001b[38;5;241;43m0\u001b[39;49m\u001b[43m]\u001b[49m\n\u001b[1;32m     26\u001b[0m     \u001b[38;5;28;01mif\u001b[39;00m current \u001b[38;5;241m==\u001b[39m District[i][\u001b[38;5;241m0\u001b[39m]:\n\u001b[1;32m     27\u001b[0m         reg \u001b[38;5;241m+\u001b[39m\u001b[38;5;241m=\u001b[39m avg_tax[i]\n",
      "\u001b[0;31mIndexError\u001b[0m: list index out of range"
     ]
    }
   ],
   "source": [
    "# Get region details into list\n",
    "Codes = Pop['Code'].values.tolist()\n",
    "Type = Pop['Geography'].values.tolist()\n",
    "\n",
    "# Create blank 2d list\n",
    "District = [[]]\n",
    "c = ''\n",
    "\n",
    "# Connect each district to its relative region\n",
    "for i in range(0,len(Codes)):\n",
    "    if Type[i] == 'Region':\n",
    "        c = Codes[i]\n",
    "    if Type[i] == 'Country':\n",
    "        \n",
    "    District.append([c, Codes[i]])\n",
    "\n",
    "print(District)\n",
    "\n",
    "reg = 0\n",
    "num = 0\n",
    "\n",
    "reg_tax = []\n",
    "\n",
    "# Calculate the regions average tax\n",
    "for i in range(0, len(District)):\n",
    "    current = District[i][0]\n",
    "    if current == District[i][0]:\n",
    "        reg += avg_tax[i]\n",
    "        num += 1\n",
    "    else:\n",
    "        avg = reg // num\n",
    "        reg_tax.append(avg)\n",
    "        reg = 0\n",
    "        num = 0\n",
    "\n",
    "\n"
   ]
  },
  {
   "cell_type": "code",
   "execution_count": 9,
   "id": "59cf520d",
   "metadata": {},
   "outputs": [
    {
     "name": "stdout",
     "output_type": "stream",
     "text": [
      "+--------+-------+-----+------+-------------+----------+------------+-----------+--------+----------+-----------+--------+----------+-------+---+---------+--------------------+\n",
      "|All_ages|Num_ind| Mean|Median|Other_num_ind|Other_mean|Other_median|Tot_num_ind|Tot_mean|Tot_median|Tax_num_ind|Tax_mean|Tax_median|Tot_tax| id|     Code|                Area|\n",
      "+--------+-------+-----+------+-------------+----------+------------+-----------+--------+----------+-----------+--------+----------+-------+---+---------+--------------------+\n",
      "| 2711380|    929|30200| 24700|          508|      3840|          31|       1230|   31500|     24900|       1230|    4110|      2230|   5060|  1|E12000001|          North East|\n",
      "| 1153212|    396|30500| 25000|          197|      3800|          29|        508|   31700|     25200|        508|    4120|      2290|   2090|  2|E11000007|         Tyne & Wear|\n",
      "| 7600126|   2690|32000| 25000|         1410|      5930|          43|       3490|   34000|     25700|       3490|    4930|      2360|  17200|  3|E12000002|          North West|\n",
      "| 2948633|   1030|31800| 25000|          500|      5730|          36|       1290|   33600|     25500|       1290|    4810|      2350|   6190|  4|E11000001|  Greater Manchester|\n",
      "| 1270162|    440|30500| 24200|          265|      6250|          55|        600|   32900|     25200|        600|    4510|      2260|   2710|  5|E10000017|          Lancashire|\n",
      "| 1456562|    503|30500| 25000|          235|      4380|          29|        642|   32000|     25200|        642|    4310|      2310|   2760|  6|E11000002|          Merseyside|\n",
      "| 5594125|   1940|30900| 24700|         1130|      5210|          43|       2550|   33000|     25300|       2550|    4590|      2300|  11700|  7|E12000003|Yorkshire and the...|\n",
      "| 1407072|    478|29800| 24400|          260|      4130|          30|        620|   31300|     24700|        620|    4040|      2200|   2510|  8|E11000003|     South Yorkshire|\n",
      "| 2402161|    816|31200| 25200|          472|      5000|          44|       1060|   32900|     25500|       1060|    4510|      2330|   4770|  9|E11000006|      West Yorkshire|\n",
      "| 4991265|   1810|31700| 25000|         1010|      5780|          47|       2380|   33800|     25800|       2380|    4850|      2370|  11500| 10|E12000004|       East Midlands|\n",
      "|  811449|    301|31500| 24800|          182|      5640|          44|        411|   33200|     25200|        411|    4650|      2250|   1910| 11|E10000007|          Derbyshire|\n",
      "|  734015|    282|33700| 26700|          178|      6750|          63|        374|   36500|     27600|        374|    5570|      2640|   2080| 12|E10000018|      Leicestershire|\n",
      "|  782808|    280|30200| 24400|          162|      5350|          49|        381|   32400|     25300|        381|    4390|      2300|   1670| 13|E10000019|        Lincolnshire|\n",
      "|  844494|    310|32400| 25100|          186|      5660|          49|        419|   34200|     25800|        419|    4980|      2350|   2090| 14|E10000024|     Nottinghamshire|\n",
      "| 6085687|   2100|31600| 25100|         1160|      5780|          47|       2760|   33600|     25500|       2760|    4800|      2340|  13200| 15|E12000005|       West Midlands|\n",
      "|  898521|    339|32500| 25600|          205|      6340|          51|        458|   34500|     26100|        458|    5080|      2410|   2330| 16|E10000028|       Staffordshire|\n",
      "|  617823|    242|37200| 27500|          152|      7660|          77|        319|   39800|     28300|        319|    6770|      2790|   2160| 17|E10000031|        Warwickshire|\n",
      "| 2980936|    943|30300| 24600|          475|      4470|          38|       1200|   31500|     24600|       1200|    4160|      2170|   5010| 18|E11000005|       West Midlands|\n",
      "|  614185|    230|33100| 25500|          144|      7260|          66|        314|   36500|     27000|        314|    5610|      2560|   1760| 19|E10000034|      Worcestershire|\n",
      "| 6468665|   2410|38300| 27700|         1430|      8340|          77|       3240|   40900|     28400|       3240|    7260|      2790|  23500| 20|E12000006|     East of England|\n",
      "+--------+-------+-----+------+-------------+----------+------------+-----------+--------+----------+-----------+--------+----------+-------+---+---------+--------------------+\n",
      "only showing top 20 rows\n",
      "\n"
     ]
    }
   ],
   "source": [
    "# Imports\n",
    "#from sklearn.ensemble import RandomForestClassifier # pip3 install -U scikit-learn scipy matplotlib\n",
    "from pyspark.ml.classification import RandomForestClassifier # pip install setuptools\n",
    "from pyspark.ml.evaluation import RegressionEvaluator \n",
    "from pyspark.ml.feature import VectorAssembler\n",
    "from pyspark.ml.feature import StandardScaler\n",
    "\n",
    "#Cast_Data.printSchema()\n",
    "\n",
    "# Split data\n",
    "train_data, test_data = Cast_Data.randomSplit([0.8, 0.2])\n",
    "\n",
    "# Create classifier\n",
    "rf = RandomForestClassifier()\n",
    "\n",
    "# Create target data \n",
    "#Cast_Data.summary().show()\n",
    "\n",
    "Cast_Data.show()\n",
    "\n",
    "# Create model\n",
    "#model = rf.fit(train_data)\n"
   ]
  }
 ],
 "metadata": {
  "kernelspec": {
   "display_name": "Python 3",
   "language": "python",
   "name": "python3"
  },
  "language_info": {
   "codemirror_mode": {
    "name": "ipython",
    "version": 3
   },
   "file_extension": ".py",
   "mimetype": "text/x-python",
   "name": "python",
   "nbconvert_exporter": "python",
   "pygments_lexer": "ipython3",
   "version": "3.12.7"
  }
 },
 "nbformat": 4,
 "nbformat_minor": 5
}
