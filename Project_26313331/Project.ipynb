{
 "cells": [
  {
   "cell_type": "code",
   "execution_count": null,
   "id": "44220778-f414-418c-9494-80ed799b35c7",
   "metadata": {},
   "outputs": [],
   "source": [
    "# Don't use this or you can't visualise the data for some reason\n",
    "#import findspark\n",
    "#import streamlit\n",
    "#findspark.init()"
   ]
  },
  {
   "cell_type": "code",
   "execution_count": 1,
   "id": "6e105e07-882d-499e-be1c-8c09aa115977",
   "metadata": {},
   "outputs": [
    {
     "name": "stderr",
     "output_type": "stream",
     "text": [
      "/usr/local/lib/python3.12/site-packages/pyspark/bin/load-spark-env.sh: line 68: ps: command not found\n",
      "Setting default log level to \"WARN\".\n",
      "To adjust logging level use sc.setLogLevel(newLevel). For SparkR, use setLogLevel(newLevel).\n",
      "25/03/13 11:17:40 WARN NativeCodeLoader: Unable to load native-hadoop library for your platform... using builtin-java classes where applicable\n"
     ]
    }
   ],
   "source": [
    "#Imports\n",
    "import pyspark\n",
    "from pyspark import SparkContext, SparkConf\n",
    "from collections import Counter\n",
    "from pyspark.sql.types import IntegerType\n",
    "from pyspark.sql.functions import split, col\n",
    "\n",
    "from pyspark.sql import SparkSession\n",
    "#spark = SparkSession.builder.getOrCreate()\n",
    "spark = SparkSession.builder.master('local[10]').config('spark.driver.memory','10g').getOrCreate()\n",
    "\n",
    "conf = SparkConf().setAppName('Project').setMaster('local')\n",
    "sparkContext = SparkContext.getOrCreate(conf=conf) #SparkContext(conf = conf)"
   ]
  },
  {
   "cell_type": "code",
   "execution_count": 2,
   "id": "89897865-5f51-40f0-b7b6-54df26e3ee5f",
   "metadata": {},
   "outputs": [],
   "source": [
    "# Read in and assign column names\n",
    "# Income data\n",
    "Income = spark.read.csv('income_csv_cleaned_no_commas.csv',header=False)\n",
    "Income = Income.toDF('Area_code','Area','Self_num_ind','Self_mean','Self_median','Num_ind','Mean','Median','Pens_num_ind','Pens_mean',\n",
    "                     'Pens_median','Other_num_ind','Other_mean','Other_median','Tot_num_ind','Tot_mean','Tot_median','Tax_num_ind','Tax_mean','Tax_median','Tot_tax')\n",
    "\n",
    "# Drop not applicable\n",
    "Income = Income.na.drop()\n",
    "Income = Income.filter(Income.Area_code!='Not applicable')\n",
    "\n",
    "# Remove original formatting\n",
    "Income = Income.filter(Income.Area!='Region/County')\n",
    "\n",
    "# Population data\n",
    "Population = spark.read.csv('population_data.csv',header=False)\n",
    "Population = Population.toDF('Code','Name','Geography','All_ages','0','1','2','3','4','5','6','7','8','9','10','11','12','13','14','15',\n",
    "                     '16','17','18','19','20','21','22','23','24','25','26','27','28','29','30','31','32','33','34','35','36','37',\n",
    "                     '38','39','40','41','42','43','44','45','46','47','48','49','50','51','52','53','54','55','56','57','58','59',\n",
    "                     '60','61','62','63','64','65','66','67','68','69','70','71','72','73','74','75','76','77','78','79','80','81','82','83','84','85','86','87','88','89','90+')\n",
    "\n",
    "# Drop not applicable\n",
    "Population = Population.na.drop()\n",
    "\n",
    "# Remove original formatting\n",
    "Population = Population.filter(Population.Code!='Code')\n",
    "\n",
    "# Income data\n",
    "Statements = spark.read.csv('Transposed_Consolidated_Income_Statements.csv',header=False)\n",
    "Statements = Statements.toDF('Company','Fina_period','State','Revenue','Cost','Gross','Other','Disp_close','Admin','Operating','Fin_out','Fin_in','Share_loss','Before_tax','Tax','Profit')\n",
    "\n",
    "# Remove original formatting\n",
    "Statements = Statements.drop(col('Company'))\n",
    "Statements = Statements.drop(col('Fina_period'))\n",
    "Statements = Statements.drop(col('State'))\n",
    "\n",
    "# Remove original formatting\n",
    "Statements = Statements.filter(Statements.Cost!='Cost of sales')\n",
    "\n",
    "#Income.show()"
   ]
  },
  {
   "cell_type": "code",
   "execution_count": 3,
   "id": "a564a1e2",
   "metadata": {},
   "outputs": [
    {
     "name": "stderr",
     "output_type": "stream",
     "text": [
      "25/03/13 11:17:43 WARN SparkStringUtils: Truncated the string representation of a plan since it was too large. This behavior can be adjusted by setting 'spark.sql.debug.maxToStringFields'.\n"
     ]
    },
    {
     "name": "stdout",
     "output_type": "stream",
     "text": [
      "+---------+--------------------+--------------------+--------+------+------+------+------+------+------+------+------+------+------+------+------+------+------+------+------+------+------+------+------+------+------+------+------+------+------+------+------+------+------+------+------+------+------+------+------+------+------+------+------+------+------+------+------+------+------+------+------+------+------+------+------+------+------+------+------+------+------+------+------+------+------+------+------+------+------+------+------+------+------+------+------+------+------+------+------+------+------+------+------+------+------+------+------+------+------+------+------+------+------+------+\n",
      "|     Code|                Name|           Geography|All_ages|     0|     1|     2|     3|     4|     5|     6|     7|     8|     9|    10|    11|    12|    13|    14|    15|    16|    17|    18|    19|    20|    21|    22|    23|    24|    25|    26|    27|    28|    29|    30|    31|    32|    33|    34|    35|    36|    37|    38|    39|    40|    41|    42|    43|    44|    45|    46|    47|    48|    49|    50|    51|    52|    53|    54|    55|    56|    57|    58|    59|    60|    61|    62|    63|    64|    65|    66|    67|    68|    69|    70|    71|    72|    73|    74|    75|    76|    77|    78|    79|    80|    81|    82|    83|    84|    85|    86|    87|    88|    89|   90+|\n",
      "+---------+--------------------+--------------------+--------+------+------+------+------+------+------+------+------+------+------+------+------+------+------+------+------+------+------+------+------+------+------+------+------+------+------+------+------+------+------+------+------+------+------+------+------+------+------+------+------+------+------+------+------+------+------+------+------+------+------+------+------+------+------+------+------+------+------+------+------+------+------+------+------+------+------+------+------+------+------+------+------+------+------+------+------+------+------+------+------+------+------+------+------+------+------+------+------+------+------+------+\n",
      "|K04000001|   ENGLAND AND WALES|             Country|60854727|600801|641879|638385|661083|672685|681900|697641|717150|710833|714772|732612|751923|752347|742256|736698|743900|716641|705108|707670|716527|711854|713853|715140|738033|768416|778100|795056|782863|795733|816611|818170|843787|853772|852228|847155|856627|837184|830098|826094|799549|799458|795121|801792|804769|770485|716103|702628|716717|731450|739902|768197|797244|826458|804402|822081|818332|822945|818740|819904|807652|787224|767486|737013|705294|684873|663659|634051|607219|580893|579378|566107|545374|544313|547740|555344|580460|620020|465366|442487|430180|387059|335360|288359|287413|271872|250133|222324|195657|170123|142674|551758|\n",
      "|E92000001|             ENGLAND|             Country|57690323|573100|611983|608924|629972|640658|648548|663754|681559|675636|679270|696169|714362|714228|704780|699401|706006|680553|669743|671208|677553|673283|674617|676878|700947|730647|740801|755921|745430|757884|777813|779256|803070|812586|811784|806727|815398|796852|790301|786596|761753|761526|757565|763805|766371|734135|682602|669430|682668|696007|703567|729662|756142|782845|762354|778013|774855|778477|774198|774216|762104|742788|723731|694877|664557|644790|624637|596453|571250|546316|544215|531268|512151|511067|514065|521443|545087|583339|437949|416050|404700|363994|314801|270597|270666|256427|235873|209664|184536|160616|134632|521291|\n",
      "|E12000001|          NORTH EAST|              Region| 2711380| 24711| 26256| 26370| 26959| 28242| 28768| 29763| 30584| 30231| 30775| 31701| 32141| 32483| 31867| 31220| 31975| 30632| 30549| 30752| 34581| 36861| 35309| 32769| 31385| 31458| 32016| 33312| 32648| 33472| 33759| 34347| 35664| 35636| 35183| 34698| 35915| 35288| 35531| 34879| 33579| 33340| 32987| 33287| 33531| 32444| 28952| 27799| 29636| 30217| 30629| 32475| 35153| 37108| 35420| 36237| 37045| 37907| 38322| 38946| 38490| 38418| 38118| 36392| 35223| 35294| 34569| 33046| 31759| 30141| 29796| 29239| 27834| 27464| 27532| 27733| 28721| 30570| 22233| 20894| 19754| 17067| 15345| 13718| 13665| 12776| 11874| 10641|  8949|  8003|  6504| 23914|\n",
      "|E06000047|       County Durham|   Unitary Authority|  532182|  4410|  4736|  4805|  4964|  5084|  5199|  5352|  5647|  5654|  5812|  5989|  6022|  6116|  6127|  5857|  6111|  5958|  5786|  6108|  8276| 10046|  8641|  6859|  5885|  5651|  5661|  5945|  5774|  5796|  5829|  6059|  6279|  6446|  6289|  6309|  6470|  6377|  6425|  6277|  6177|  6294|  6229|  6287|  6226|  6254|  5606|  5379|  5697|  5846|  6050|  6739|  7147|  7629|  7203|  7615|  7778|  7989|  8024|  8174|  8038|  7824|  7855|  7376|  7009|  7206|  6904|  6656|  6415|  6228|  6045|  6029|  5697|  5724|  5658|  5797|  5838|  6305|  4656|  4488|  4316|  3583|  3180|  2922|  2790|  2542|  2361|  2164|  1825|  1596|  1284|  4497|\n",
      "|E06000005|          Darlington|   Unitary Authority|  110562|  1010|  1115|  1102|  1157|  1168|  1210|  1152|  1244|  1257|  1273|  1351|  1341|  1335|  1361|  1385|  1380|  1298|  1272|  1249|   951|   851|   904|  1008|  1176|  1261|  1293|  1295|  1342|  1320|  1375|  1406|  1423|  1559|  1464|  1404|  1501|  1404|  1447|  1353|  1382|  1364|  1350|  1395|  1419|  1425|  1326|  1225|  1305|  1331|  1368|  1406|  1526|  1604|  1559|  1552|  1568|  1561|  1633|  1628|  1511|  1602|  1545|  1531|  1412|  1423|  1385|  1292|  1294|  1190|  1164|  1185|  1130|  1115|  1083|  1165|  1165|  1274|   953|   902|   796|   687|   633|   592|   613|   554|   503|   448|   377|   354|   277|  1083|\n",
      "|E06000001|          Hartlepool|   Unitary Authority|   95366|   915|   960|   981|  1066|  1081|  1069|  1152|  1155|  1105|  1183|  1187|  1193|  1247|  1245|  1241|  1275|  1151|  1211|  1145|  1021|   848|   924|  1079|  1108|  1190|  1077|  1214|  1066|  1159|  1178|  1155|  1219|  1269|  1188|  1224|  1253|  1229|  1218|  1193|  1120|  1081|  1129|  1114|  1117|  1076|   977|   965|  1015|   992|  1031|  1169|  1232|  1325|  1283|  1300|  1358|  1441|  1422|  1455|  1392|  1449|  1419|  1415|  1273|  1335|  1159|  1204|  1092|  1071|   957|  1014|   996|   917|  1007|   974|   973|  1014|   736|   655|   609|   504|   500|   442|   465|   407|   429|   382|   266|   300|   206|   828|\n",
      "|E06000002|       Middlesbrough|   Unitary Authority|  152650|  1824|  1798|  1766|  1830|  1889|  1940|  2081|  1927|  2019|  1982|  2110|  2064|  2119|  1991|  1814|  1884|  1890|  1863|  1826|  1873|  1703|  1796|  1974|  2073|  2213|  2596|  2660|  2523|  2517|  2549|  2542|  2553|  2304|  2389|  2345|  2378|  2321|  2246|  2121|  2041|  1955|  1853|  1855|  1778|  1728|  1478|  1453|  1540|  1549|  1511|  1588|  1636|  1720|  1686|  1634|  1787|  1747|  1831|  1876|  1844|  1833|  1909|  1753|  1717|  1681|  1696|  1651|  1516|  1463|  1358|  1384|  1254|  1236|  1207|  1175|  1195|  1311|   928|   882|   787|   735|   722|   580|   574|   557|   520|   457|   424|   341|   301|  1120|\n",
      "|E06000057|      Northumberland|   Unitary Authority|  327055|  2549|  2664|  2813|  2772|  2976|  3156|  3223|  3328|  3339|  3460|  3562|  3670|  3707|  3565|  3498|  3677|  3395|  3458|  3249|  2560|  2475|  2435|  2746|  2919|  3117|  3207|  3164|  3076|  3268|  3264|  3342|  3606|  3589|  3552|  3546|  3716|  3724|  3633|  3759|  3595|  3607|  3660|  3648|  3916|  3777|  3323|  3377|  3581|  3767|  3851|  4077|  4518|  4744|  4480|  4696|  4881|  4994|  5073|  5366|  5376|  5273|  5339|  5103|  5188|  5087|  4954|  4825|  4754|  4502|  4531|  4435|  4259|  4240|  4234|  4305|  4701|  4843|  3502|  3348|  3175|  2764|  2339|  2055|  2004|  1873|  1706|  1586|  1358|  1203|   951|  3552|\n",
      "|E06000003|Redcar and Cleveland|   Unitary Authority|  137938|  1259|  1359|  1226|  1367|  1416|  1419|  1535|  1488|  1566|  1564|  1691|  1740|  1718|  1618|  1544|  1675|  1629|  1627|  1469|  1270|  1072|  1174|  1211|  1435|  1491|  1426|  1399|  1483|  1482|  1550|  1526|  1698|  1683|  1580|  1604|  1628|  1581|  1573|  1678|  1501|  1493|  1575|  1579|  1567|  1458|  1384|  1320|  1472|  1447|  1561|  1665|  1832|  1973|  1908|  1974|  1969|  2201|  2262|  2163|  2121|  2146|  2131|  2002|  1959|  1955|  1969|  1773|  1778|  1631|  1719|  1672|  1583|  1575|  1577|  1659|  1645|  1838|  1410|  1270|  1234|  1000|   992|   851|   854|   828|   685|   637|   546|   456|   370|  1314|\n",
      "|E06000004|    Stockton-on-Tees|   Unitary Authority|  202415|  1924|  2078|  2032|  2203|  2266|  2282|  2451|  2542|  2465|  2470|  2731|  2667|  2815|  2654|  2674|  2705|  2562|  2566|  2413|  1894|  1495|  1554|  1799|  2165|  2206|  2164|  2546|  2357|  2428|  2634|  2684|  2798|  2751|  2710|  2751|  2894|  2752|  2966|  2906|  2805|  2681|  2574|  2734|  2647|  2553|  2298|  2173|  2295|  2358|  2424|  2355|  2686|  2763|  2785|  2722|  2780|  2833|  2826|  2751|  2740|  2820|  2801|  2618|  2574|  2550|  2463|  2461|  2293|  2093|  2157|  2039|  2012|  1965|  1909|  1930|  2007|  2086|  1492|  1398|  1328|  1155|  1133|   993|   941|   885|   819|   693|   568|   535|   390|  1570|\n",
      "|E11000007|Tyne and Wear (Me...| Metropolitan County| 1153212| 10820| 11546| 11645| 11600| 12362| 12493| 12817| 13253| 12826| 13031| 13080| 13444| 13426| 13306| 13207| 13268| 12749| 12766| 13293| 16736| 18371| 17881| 16093| 14624| 14329| 14592| 15089| 15027| 15502| 15380| 15633| 16088| 16035| 16011| 15515| 16075| 15900| 16023| 15592| 14958| 14865| 14617| 14675| 14861| 14173| 12560| 11907| 12731| 12927| 12833| 13476| 14576| 15350| 14516| 14744| 14924| 15141| 15251| 15533| 15468| 15471| 15119| 14594| 14091| 14057| 14039| 13184| 12617| 11963| 11865| 11481| 10903| 10692| 10857| 10728| 11197| 11899|  8556|  7951|  7509|  6639|  5846|  5283|  5424|  5130|  4851|  4274|  3585|  3218|  2725|  9950|\n",
      "|E08000037|           Gateshead|Metropolitan Dist...|  199139|  1818|  1958|  2013|  1988|  2122|  2108|  2304|  2245|  2333|  2286|  2215|  2361|  2428|  2345|  2361|  2178|  2327|  2394|  2458|  2188|  1911|  1715|  1936|  2060|  2307|  2506|  2546|  2597|  2726|  2677|  2729|  2801|  2706|  2727|  2646|  2735|  2675|  2753|  2643|  2667|  2633|  2450|  2552|  2608|  2436|  2220|  2110|  2232|  2244|  2299|  2318|  2725|  2769|  2677|  2700|  2689|  2865|  2846|  2812|  2720|  2794|  2758|  2573|  2484|  2453|  2520|  2370|  2127|  2172|  2034|  2017|  1897|  1889|  2003|  2000|  2098|  2212|  1525|  1548|  1396|  1228|  1113|  1045|  1043|  1054|   936|   799|   645|   630|   534|  1844|\n",
      "|E08000021| Newcastle upon Tyne|Metropolitan Dist...|  311976|  3054|  3243|  3206|  3221|  3340|  3360|  3376|  3571|  3347|  3473|  3506|  3399|  3477|  3420|  3414|  3340|  3177|  3162|  3894|  8552| 10747| 10443|  8155|  6009|  5187|  5022|  5110|  5074|  4944|  4705|  4675|  4557|  4357|  4636|  4136|  4436|  4272|  4183|  4089|  3947|  3898|  3975|  3739|  3744|  3529|  3185|  3026|  3267|  3258|  3142|  3167|  3215|  3505|  3217|  3279|  3263|  3357|  3375|  3457|  3423|  3446|  3331|  3162|  3110|  3109|  3016|  2778|  2740|  2482|  2462|  2412|  2286|  2137|  2220|  2136|  2232|  2488|  1726|  1628|  1560|  1337|  1203|  1058|  1141|  1069|   992|   954|   809|   716|   585|  2414|\n",
      "|E08000022|      North Tyneside|Metropolitan Dist...|  211769|  1885|  2058|  1995|  2091|  2378|  2334|  2338|  2474|  2373|  2449|  2495|  2466|  2441|  2528|  2441|  2506|  2358|  2427|  2234|  1674|  1602|  1612|  1717|  1967|  2130|  2200|  2403|  2341|  2538|  2609|  2623|  2801|  2906|  2833|  2924|  2912|  3031|  3064|  2996|  2965|  2923|  2855|  3014|  3134|  2930|  2491|  2420|  2562|  2643|  2565|  2761|  2989|  2987|  2853|  2849|  2907|  2911|  2935|  3007|  3031|  3058|  2938|  2784|  2775|  2666|  2729|  2507|  2502|  2435|  2420|  2408|  2220|  2187|  2183|  2195|  2350|  2448|  1779|  1614|  1584|  1320|  1146|   986|  1080|   975|   955|   810|   708|   638|   523|  1960|\n",
      "|E08000023|      South Tyneside|Metropolitan Dist...|  149270|  1413|  1425|  1590|  1499|  1613|  1702|  1697|  1810|  1697|  1759|  1733|  1765|  1810|  1757|  1770|  1779|  1653|  1624|  1577|  1410|  1292|  1312|  1391|  1516|  1566|  1578|  1632|  1701|  1746|  1754|  1881|  1869|  2029|  1968|  2023|  2089|  2079|  2156|  2031|  1883|  1846|  1876|  1883|  1883|  1878|  1529|  1482|  1573|  1656|  1669|  1745|  1898|  2038|  1986|  2109|  2141|  2114|  2250|  2259|  2278|  2227|  2164|  2197|  2065|  2105|  2000|  1886|  1876|  1725|  1780|  1659|  1497|  1561|  1598|  1538|  1595|  1601|  1271|  1101|  1025|   987|   849|   766|   759|   714|   704|   625|   515|   444|   366|  1398|\n",
      "|E08000024|          Sunderland|Metropolitan Dist...|  281058|  2650|  2862|  2841|  2801|  2909|  2989|  3102|  3153|  3076|  3064|  3131|  3453|  3270|  3256|  3221|  3465|  3234|  3159|  3130|  2912|  2819|  2799|  2894|  3072|  3139|  3286|  3398|  3314|  3548|  3635|  3725|  4060|  4037|  3847|  3786|  3903|  3843|  3867|  3833|  3496|  3565|  3461|  3487|  3492|  3400|  3135|  2869|  3097|  3126|  3158|  3485|  3749|  4051|  3783|  3807|  3924|  3894|  3845|  3998|  4016|  3946|  3928|  3878|  3657|  3724|  3774|  3643|  3372|  3149|  3169|  2985|  3003|  2918|  2853|  2859|  2922|  3150|  2255|  2060|  1944|  1767|  1535|  1428|  1401|  1318|  1264|  1086|   908|   790|   717|  2334|\n",
      "|E12000002|          NORTH WEST|              Region| 7600126| 75510| 81106| 80788| 83966| 85865| 86148| 89017| 91340| 90529| 91262| 93283| 94937| 95283| 93707| 93148| 93733| 90027| 89611| 90291| 93938| 95599| 95463| 92437| 93159| 95970| 95737| 98410| 95482| 97549| 99757|100797|103741|106229|104745|104215|106185|102288|103035|102791| 98401| 98071| 96694| 96074| 96502| 91773| 84864| 82748| 85603| 87944| 88896| 93214| 98795|102983|100187|103214|101543|102647|102204|103785|102784|100203| 98938| 94606| 90656| 87468| 84785| 81238| 77606| 73841| 73363| 72262| 69158| 69509| 69697| 70310| 73447| 78446| 56979| 53754| 52690| 47590| 41397| 36696| 35599| 33648| 30848| 27054| 23801| 20213| 16565| 61755|\n",
      "|E06000008|Blackburn with Da...|   Unitary Authority|  157503|  1819|  1973|  2014|  2083|  2137|  2089|  2235|  2303|  2276|  2234|  2346|  2411|  2472|  2425|  2490|  2424|  2318|  2341|  2235|  1899|  1830|  1893|  1873|  1988|  2071|  2060|  1959|  1982|  2051|  2071|  2079|  2142|  2221|  2037|  2168|  2245|  2179|  2193|  2291|  2183|  2163|  2246|  2209|  2189|  2042|  1960|  1857|  1873|  1901|  1906|  2042|  2063|  2047|  2028|  2091|  2029|  1886|  1876|  1903|  1814|  1819|  1761|  1675|  1618|  1561|  1426|  1415|  1383|  1348|  1212|  1297|  1178|  1117|  1144|  1129|  1186|  1230|   850|   790|   769|   678|   600|   527|   511|   518|   460|   337|   344|   282|   227|   946|\n",
      "|E06000009|           Blackpool|   Unitary Authority|  142708|  1478|  1465|  1428|  1514|  1647|  1559|  1642|  1553|  1681|  1643|  1632|  1662|  1591|  1676|  1627|  1660|  1600|  1605|  1659|  1409|  1166|  1316|  1495|  1553|  1571|  1625|  1713|  1649|  1670|  1758|  1802|  1872|  2025|  1963|  1914|  1946|  1958|  1892|  1824|  1720|  1730|  1609|  1578|  1712|  1557|  1439|  1473|  1563|  1544|  1627|  1829|  1953|  2048|  2049|  2225|  2093|  2226|  2246|  2135|  2269|  2147|  2185|  2036|  1917|  1896|  1806|  1673|  1729|  1503|  1452|  1390|  1354|  1349|  1325|  1462|  1528|  1599|  1220|  1108|  1082|  1012|   825|   796|   747|   731|   621|   616|   536|   430|   338|  1227|\n",
      "|E06000049|       Cheshire East|   Unitary Authority|  412458|  3787|  4104|  4132|  4225|  4240|  4593|  4550|  4689|  4577|  4578|  4829|  4946|  4903|  4743|  4799|  4846|  4542|  4551|  4380|  3089|  2401|  2677|  3334|  3945|  4181|  4204|  4303|  4236|  4625|  4743|  4849|  4995|  5442|  5257|  5284|  5418|  5254|  5388|  5435|  5107|  5167|  5090|  5099|  5258|  5056|  4762|  4821|  4971|  5175|  5230|  5451|  5813|  6073|  5879|  6229|  6304|  6167|  6189|  6213|  6087|  6191|  5950|  5737|  5396|  5171|  4962|  4668|  4567|  4492|  4466|  4422|  4268|  4424|  4418|  4487|  4928|  5341|  3785|  3743|  3759|  3307|  2771|  2421|  2401|  2204|  2142|  1868|  1698|  1461|  1135|  4660|\n",
      "+---------+--------------------+--------------------+--------+------+------+------+------+------+------+------+------+------+------+------+------+------+------+------+------+------+------+------+------+------+------+------+------+------+------+------+------+------+------+------+------+------+------+------+------+------+------+------+------+------+------+------+------+------+------+------+------+------+------+------+------+------+------+------+------+------+------+------+------+------+------+------+------+------+------+------+------+------+------+------+------+------+------+------+------+------+------+------+------+------+------+------+------+------+------+------+------+------+------+------+\n",
      "only showing top 20 rows\n",
      "\n"
     ]
    }
   ],
   "source": [
    "Population.show()"
   ]
  },
  {
   "cell_type": "code",
   "execution_count": 4,
   "id": "6fc2c1ed",
   "metadata": {},
   "outputs": [],
   "source": [
    "#Statements.show()"
   ]
  },
  {
   "cell_type": "code",
   "execution_count": 5,
   "id": "5203cbf9",
   "metadata": {},
   "outputs": [],
   "source": [
    "import numpy as np\n",
    "from pyspark.sql import functions as F\n",
    "from pyspark.sql.functions import monotonically_increasing_id\n",
    "\n",
    "# Condensing the data to only what is relevant\n",
    "# Dropping self employement data\n",
    "\n",
    "# Income condensed\n",
    "Cond_Inc = Income\n",
    "\n",
    "Cond_Inc = Cond_Inc.drop(col('Self_num_ind'))\n",
    "Cond_Inc = Cond_Inc.drop(col('Self_mean'))\n",
    "Cond_Inc = Cond_Inc.drop(col('Self_median'))\n",
    "\n",
    "# Dropping pension data\n",
    "Cond_Inc = Cond_Inc.drop(col('Pens_num_ind'))\n",
    "Cond_Inc = Cond_Inc.drop(col('Pens_mean'))\n",
    "Cond_Inc = Cond_Inc.drop(col('Pens_median'))\n",
    "\n",
    "# Remove the non-applicable areas\n",
    "Cond_Inc = Cond_Inc.filter(Cond_Inc.Area_code != 'Not applicable')\n",
    "\n",
    "# Population condensed\n",
    "Cond_Pop = Population\n",
    "\n",
    "# Dropping columns for individual ages\n",
    "for colu in range(0,90):\n",
    "    Cond_Pop = Cond_Pop.drop('',col(str(colu)))\n",
    "\n",
    "Cond_Pop = Cond_Pop.drop(col('90+'))\n",
    "\n",
    "# Dropping repeated data in both population and income\n",
    "Cond_Pop = Cond_Pop.drop(col('Geography'))\n",
    "Cond_Pop = Cond_Pop.drop(col('Name'))\n",
    "\n",
    "# Remove commas from numbers\n",
    "#Cond_Pop = Cond_Pop.map(lambda x: str(x).replace(',', '') if isinstance(x, str) else x)\n",
    "\n",
    "# Join two dataframes\n",
    "Data = Cond_Pop.join(Cond_Inc,Cond_Inc.Area_code == Cond_Pop.Code,'inner')\n",
    "Data = Data.drop(col('Area_code'))\n",
    "\n",
    "# Add new primary key\n",
    "Data = Data.withColumn(\"id\", monotonically_increasing_id())\n",
    "\n",
    "# Get all codes in the new dataframe\n",
    "codes = [row.Code for row in Data.select('Code').collect()]\n",
    "\n",
    "# Temporary store for string data types with primary key\n",
    "Temp_Store = Data.select('id','Code','Area')\n",
    "Temp_Store = Temp_Store.withColumnRenamed('id', 'id1')\n",
    "\n",
    "# Drop string data type columns\n",
    "Data = Data.drop(col('Code'))\n",
    "Data = Data.drop(col('Area'))\n",
    "\n",
    "# Changes data type\n",
    "for c in Data.columns:\n",
    "    Data = Data.withColumn(c, F.col(c).cast(IntegerType()))\n",
    "\n",
    "# Creates a single database\n",
    "Cast_Data = Data.join(Temp_Store,Data.id == Temp_Store.id1,'full_outer')\n",
    "Cast_Data = Cast_Data.drop(col('id1'))\n",
    "\n",
    "Cast_Data = Cast_Data.filter(Cast_Data.id!=0)"
   ]
  },
  {
   "cell_type": "code",
   "execution_count": null,
   "id": "a063911a",
   "metadata": {},
   "outputs": [
    {
     "name": "stdout",
     "output_type": "stream",
     "text": [
      "2711380\n",
      "2948633\n",
      "2402161\n",
      "2980936\n",
      "3164404\n",
      "['Lower middle', 'Lower', 'Upper middle', 'Lower middle', 'Lower', 'Lower', 'Upper middle', 'Lower', 'Lower middle', 'Upper middle', 'Lower', 'Lower', 'Lower', 'Lower', 'Upper middle', 'Lower', 'Lower', 'Lower middle', 'Lower', 'Upper middle', 'Lower', 'Lower', 'Lower', 'Lower', 'Lower', 'Upper', 'Upper', 'Lower', 'Lower', 'Lower', 'Lower', 'Lower', 'Lower', 'Upper middle', 'Lower', 'Lower', 'Lower middle']\n"
     ]
    },
    {
     "data": {
      "image/png": "[encoded data removed]",
      "text/plain": [
       "<Figure size 640x480 with 1 Axes>"
      ]
     },
     "metadata": {},
     "output_type": "display_data"
    }
   ],
   "source": [
    "import sys\n",
    "import matplotlib # pip install matplotlib\n",
    "import matplotlib.pyplot as plt\n",
    "\n",
    "# Convert to Pandas\n",
    "Pop = Cond_Pop.toPandas()\n",
    "Inc = Cond_Inc.toPandas()\n",
    "Sta = Statements.toPandas()\n",
    "Dat = Cast_Data.toPandas()\n",
    "\n",
    "Ages = Dat['All_ages'].values.tolist()\n",
    "\n",
    "'''\n",
    "# Visualise data \n",
    "ax = Dat.plot.scatter(x='All_ages',y='Tot_tax',s=5,c='purple',grid=True)\n",
    "\n",
    "# Create line of best fit\n",
    "z = np.polyfit(x=Dat.loc[:,'All_ages'],y=Dat.loc[:,'Tot_tax'],deg=1)\n",
    "p = np.poly1d(z)\n",
    "Dat['Trendline'] = p(Dat.loc[:,'All_ages'])\n",
    "'''\n",
    "cat_var = []\n",
    "\n",
    "# Create category\n",
    "for i in range(len(Ages)):\n",
    "    if Ages[i] < 2000000:\n",
    "        cat_var.append('Lower')\n",
    "    elif Ages[i] > 2000000 and Ages[i] < 4000000:\n",
    "        cat_var.append('Lower middle')\n",
    "    elif Ages[i] > 4000000 and Ages[i] < 8000000:\n",
    "        cat_var.append('Upper middle')\n",
    "    else:\n",
    "        cat_var.append('Upper')\n",
    "\n",
    "print(cat_var)\n",
    "\n",
    "# Create the groups seen in graph\n",
    "colours = {'Lower': 'red', 'Lower middle': 'pink', 'Upper middle': 'purple', 'Upper': 'blue'}\n",
    "colour_list = [colours[group] for group in cat_var]\n",
    "\n",
    "gro_ax = Dat.plot.scatter('All_ages','Tot_tax',c=colour_list,grid=True)"
   ]
  },
  {
   "cell_type": "code",
   "execution_count": null,
   "id": "59cf520d",
   "metadata": {},
   "outputs": [
    {
     "name": "stdout",
     "output_type": "stream",
     "text": [
      "+--------+-------+-----+------+-------------+----------+------------+-----------+--------+----------+-----------+--------+----------+-------+---+---------+--------------------+\n",
      "|All ages|Num_ind| Mean|Median|Other_num_ind|Other_mean|Other_median|Tot_num_ind|Tot_mean|Tot_median|Tax_num_ind|Tax_mean|Tax_median|Tot_tax| id|     Code|                Area|\n",
      "+--------+-------+-----+------+-------------+----------+------------+-----------+--------+----------+-----------+--------+----------+-------+---+---------+--------------------+\n",
      "| 2711380|    929|30200| 24700|          508|      3840|          31|       1230|   31500|     24900|       1230|    4110|      2230|   5060|  1|E12000001|          North East|\n",
      "| 1153212|    396|30500| 25000|          197|      3800|          29|        508|   31700|     25200|        508|    4120|      2290|   2090|  2|E11000007|         Tyne & Wear|\n",
      "| 7600126|   2690|32000| 25000|         1410|      5930|          43|       3490|   34000|     25700|       3490|    4930|      2360|  17200|  3|E12000002|          North West|\n",
      "| 2948633|   1030|31800| 25000|          500|      5730|          36|       1290|   33600|     25500|       1290|    4810|      2350|   6190|  4|E11000001|  Greater Manchester|\n",
      "| 1270162|    440|30500| 24200|          265|      6250|          55|        600|   32900|     25200|        600|    4510|      2260|   2710|  5|E10000017|          Lancashire|\n",
      "| 1456562|    503|30500| 25000|          235|      4380|          29|        642|   32000|     25200|        642|    4310|      2310|   2760|  6|E11000002|          Merseyside|\n",
      "| 5594125|   1940|30900| 24700|         1130|      5210|          43|       2550|   33000|     25300|       2550|    4590|      2300|  11700|  7|E12000003|Yorkshire and the...|\n",
      "| 1407072|    478|29800| 24400|          260|      4130|          30|        620|   31300|     24700|        620|    4040|      2200|   2510|  8|E11000003|     South Yorkshire|\n",
      "| 2402161|    816|31200| 25200|          472|      5000|          44|       1060|   32900|     25500|       1060|    4510|      2330|   4770|  9|E11000006|      West Yorkshire|\n",
      "| 4991265|   1810|31700| 25000|         1010|      5780|          47|       2380|   33800|     25800|       2380|    4850|      2370|  11500| 10|E12000004|       East Midlands|\n",
      "|  811449|    301|31500| 24800|          182|      5640|          44|        411|   33200|     25200|        411|    4650|      2250|   1910| 11|E10000007|          Derbyshire|\n",
      "|  734015|    282|33700| 26700|          178|      6750|          63|        374|   36500|     27600|        374|    5570|      2640|   2080| 12|E10000018|      Leicestershire|\n",
      "|  782808|    280|30200| 24400|          162|      5350|          49|        381|   32400|     25300|        381|    4390|      2300|   1670| 13|E10000019|        Lincolnshire|\n",
      "|  844494|    310|32400| 25100|          186|      5660|          49|        419|   34200|     25800|        419|    4980|      2350|   2090| 14|E10000024|     Nottinghamshire|\n",
      "| 6085687|   2100|31600| 25100|         1160|      5780|          47|       2760|   33600|     25500|       2760|    4800|      2340|  13200| 15|E12000005|       West Midlands|\n",
      "|  898521|    339|32500| 25600|          205|      6340|          51|        458|   34500|     26100|        458|    5080|      2410|   2330| 16|E10000028|       Staffordshire|\n",
      "|  617823|    242|37200| 27500|          152|      7660|          77|        319|   39800|     28300|        319|    6770|      2790|   2160| 17|E10000031|        Warwickshire|\n",
      "| 2980936|    943|30300| 24600|          475|      4470|          38|       1200|   31500|     24600|       1200|    4160|      2170|   5010| 18|E11000005|       West Midlands|\n",
      "|  614185|    230|33100| 25500|          144|      7260|          66|        314|   36500|     27000|        314|    5610|      2560|   1760| 19|E10000034|      Worcestershire|\n",
      "| 6468665|   2410|38300| 27700|         1430|      8340|          77|       3240|   40900|     28400|       3240|    7260|      2790|  23500| 20|E12000006|     East of England|\n",
      "+--------+-------+-----+------+-------------+----------+------------+-----------+--------+----------+-----------+--------+----------+-------+---+---------+--------------------+\n",
      "only showing top 20 rows\n",
      "\n"
     ]
    }
   ],
   "source": [
    "# Imports\n",
    "#from sklearn.ensemble import RandomForestClassifier # pip3 install -U scikit-learn scipy matplotlib\n",
    "from pyspark.ml.classification import RandomForestClassifier # pip install setuptools\n",
    "from pyspark.ml.evaluation import RegressionEvaluator \n",
    "from pyspark.ml.feature import VectorAssembler\n",
    "from pyspark.ml.feature import StandardScaler\n",
    "\n",
    "#Cast_Data.printSchema()\n",
    "\n",
    "# Split data\n",
    "train_data, test_data = Cast_Data.randomSplit([0.8, 0.2])\n",
    "\n",
    "# Create classifier\n",
    "rf = RandomForestClassifier()\n",
    "\n",
    "# Create target data \n",
    "#Cast_Data.summary().show()\n",
    "\n",
    "Cast_Data.show()\n",
    "\n",
    "# Create model\n",
    "#model = rf.fit(train_data)\n"
   ]
  },
  {
   "cell_type": "code",
   "execution_count": null,
   "id": "f346b270",
   "metadata": {},
   "outputs": [],
   "source": []
  }
 ],
 "metadata": {
  "kernelspec": {
   "display_name": "Python 3",
   "language": "python",
   "name": "python3"
  },
  "language_info": {
   "codemirror_mode": {
    "name": "ipython",
    "version": 3
   },
   "file_extension": ".py",
   "mimetype": "text/x-python",
   "name": "python",
   "nbconvert_exporter": "python",
   "pygments_lexer": "ipython3",
   "version": "3.12.7"
  }
 },
 "nbformat": 4,
 "nbformat_minor": 5
}
